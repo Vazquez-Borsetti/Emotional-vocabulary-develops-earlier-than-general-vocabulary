{
  "nbformat": 4,
  "nbformat_minor": 0,
  "metadata": {
    "colab": {
      "provenance": [],
      "toc_visible": true,
      "authorship_tag": "ABX9TyNcMGHbVvwqv7jy/f4BM44q",
      "include_colab_link": true
    },
    "kernelspec": {
      "name": "python3",
      "display_name": "Python 3"
    },
    "language_info": {
      "name": "python"
    }
  },
  "cells": [
    {
      "cell_type": "markdown",
      "metadata": {
        "id": "view-in-github",
        "colab_type": "text"
      },
      "source": [
        "<a href=\"https://colab.research.google.com/github/Vazquez-Borsetti/Emotional-vocabulary-develops-earlier-than-general-vocabulary/blob/main/Clase_1_a.ipynb\" target=\"_parent\"><img src=\"https://colab.research.google.com/assets/colab-badge.svg\" alt=\"Open In Colab\"/></a>"
      ]
    },
    {
      "cell_type": "markdown",
      "source": [
        "# 🐍 Repaso de Python con Google Colab\n",
        "\n",
        "Este cuaderno es una repaso de Python. Usaremos **Google Colab**, que permite ejecutar código Python en la nube, sin necesidad de instalaciones.\n",
        "\n",
        "---\n",
        "\n",
        "## 📑 Índice\n",
        "\n",
        "- [1. Variables y tipos de datos](#1-Variables-y-tipos-de-datos)\n",
        "- [2. Listas y diccionarios](#2-Listas-y-diccionarios)\n",
        "- [3. Condicionales](#3-Condicionales)\n",
        "- [4. Bucles](#4-Bucles)\n",
        "- [5. Funciones](#5-Funciones)\n",
        "- [6. Manejo de errores](#6-Manejo-de-errores)\n",
        "\n",
        "---\n",
        "\n",
        "## 1. Variables y tipos de datos\n",
        "\n"
      ],
      "metadata": {
        "id": "LdXL9q2m43n7"
      }
    },
    {
      "cell_type": "code",
      "source": [
        "# Números\n",
        "a = 5       # entero\n",
        "c = a\n",
        "b = 3.14        # flotante\n",
        "\n",
        "# Texto\n",
        "nombre = \"Mario\"\n",
        "\n",
        "# Booleanos\n",
        "es_biologo = False\n",
        "print(a,c, nombre,es_biologo)"
      ],
      "metadata": {
        "colab": {
          "base_uri": "https://localhost:8080/"
        },
        "id": "jGSZmFdmBOpG",
        "outputId": "16cb14cf-b5e1-4915-b492-6c7736bf3b62"
      },
      "execution_count": null,
      "outputs": [
        {
          "output_type": "stream",
          "name": "stdout",
          "text": [
            "5 5 Mario False\n"
          ]
        }
      ]
    },
    {
      "cell_type": "markdown",
      "source": [
        "a = 5\n",
        "\n",
        "    Es un número entero (int en Python).\n",
        "\n",
        "    Se usa para representar cantidades sin decimales.\n",
        "\n",
        "b = 3.2\n",
        "\n",
        "    Es un número flotante (float), es decir, con decimales.\n",
        "\n",
        "    Se usa para representar valores numéricos con parte fraccionaria.\n",
        "\n",
        "nombre = \"Pablo\"\n",
        "\n",
        "    Es una cadena de texto (str).\n",
        "\n",
        "    Aquí representa un nombre, pero puede contener cualquier texto.\n",
        "\n",
        "es_biologo = True\n",
        "\n",
        "    Es un valor booleano (bool).\n",
        "\n",
        "    Solo puede ser True (verdadero) o False (falso).\n",
        "\n",
        "    "
      ],
      "metadata": {
        "id": "LjzaQr1rtjmb"
      }
    },
    {
      "cell_type": "markdown",
      "source": [
        "## 2. Listas y diccionarios\n"
      ],
      "metadata": {
        "id": "IpMw2VOY6BKw"
      }
    },
    {
      "cell_type": "markdown",
      "source": [
        "Una lista en Python es una estructura de datos que se usa para almacenar varios elementos en una sola variable. Es uno de los tipos de datos más versátiles y usados en Python.\n",
        "Características de las listas:\n",
        "\n",
        "    Se definen entre corchetes: [ ]\n",
        "\n",
        "    Pueden contener elementos de cualquier tipo: números, textos, booleanos, incluso otras listas.\n",
        "\n",
        "    Son ordenadas: los elementos tienen una posición (índice) que empieza en 0.\n",
        "\n",
        "    Son mutables: se pueden modificar después de ser creadas (agregar, quitar, cambiar elementos)."
      ],
      "metadata": {
        "id": "9Ccb3880t2sx"
      }
    },
    {
      "cell_type": "code",
      "source": [
        "# Lista\n",
        "nombres = [\"Ana\", \"Luis\", \"Pablo\"]\n",
        "print(nombres[-2] )\n"
      ],
      "metadata": {
        "colab": {
          "base_uri": "https://localhost:8080/"
        },
        "id": "itFOJavS6C2P",
        "outputId": "4cbdf016-4f92-47eb-b530-c57e8db3f59a"
      },
      "execution_count": null,
      "outputs": [
        {
          "output_type": "stream",
          "name": "stdout",
          "text": [
            "Luis\n"
          ]
        }
      ]
    },
    {
      "cell_type": "markdown",
      "source": [
        "Un diccionario en Python es una estructura de datos que almacena pares de clave y valor (en inglés, key-value pairs). Es ideal para representar relaciones entre elementos, como un nombre y un teléfono, una palabra y su definición, o una etiqueta y un dato.\n",
        "Características de los diccionarios:\n",
        "\n",
        "    Se definen entre llaves: { }\n",
        "\n",
        "    Cada elemento está compuesto por una clave (key) y un valor (value), separados por :\n",
        "\n",
        "    Las claves deben ser únicas\n",
        "\n",
        "    Son mutables: se pueden cambiar, agregar o eliminar elementos\n",
        "\n",
        "    No tienen un orden fijo (aunque desde Python 3.7 mantienen el orden de inserción)"
      ],
      "metadata": {
        "id": "t8FDqUZouLkd"
      }
    },
    {
      "cell_type": "code",
      "source": [
        "# Diccionario\n",
        "persona = {\"nombre\": \"Pablo\", \"edad\": 40}\n",
        "print(persona ['nombre'])"
      ],
      "metadata": {
        "id": "pf4KadX-t_40",
        "colab": {
          "base_uri": "https://localhost:8080/"
        },
        "outputId": "23872ec9-8cea-4b17-92d9-5debc9891dae"
      },
      "execution_count": null,
      "outputs": [
        {
          "output_type": "stream",
          "name": "stdout",
          "text": [
            "Pablo\n"
          ]
        }
      ]
    },
    {
      "cell_type": "markdown",
      "source": [
        "## 3. Condicionales\n",
        "Los condicionales permiten que un programa tome decisiones, es decir, que ejecute ciertas instrucciones solo si se cumple una condición."
      ],
      "metadata": {
        "id": "4fQp_J5XAc0v"
      }
    },
    {
      "cell_type": "code",
      "source": [
        "a = 3\n",
        "if a > 3:\n",
        "    print(\"a es mayor  que 3\")\n",
        "else:\n",
        "    print(\"a es menor o igual que 3\")"
      ],
      "metadata": {
        "colab": {
          "base_uri": "https://localhost:8080/"
        },
        "id": "n7OmgknW6Z54",
        "outputId": "72bbf441-b906-4357-b533-cb4f96a48040"
      },
      "execution_count": null,
      "outputs": [
        {
          "output_type": "stream",
          "name": "stdout",
          "text": [
            "a es menor o igual que 3\n"
          ]
        }
      ]
    },
    {
      "cell_type": "markdown",
      "source": [
        "| Operador | Significado       | Ejemplo (`a = 5`, `b = 3`) |\n",
        "| -------- | ----------------- | -------------------------- |\n",
        "| `==`     | Igual a           | `a == b` → False           |\n",
        "| `!=`     | Distinto de       | `a != b` → True            |\n",
        "| `>`      | Mayor que         | `a > b` → True             |\n",
        "| `<`      | Menor que         | `a < b` → False            |\n",
        "| `>=`     | Mayor o igual que | `a >= 5` → True            |\n",
        "| `<=`     | Menor o igual que | `b <= 3` → True            |\n"
      ],
      "metadata": {
        "id": "DwZZ4zZbueJ6"
      }
    },
    {
      "cell_type": "markdown",
      "source": [
        "## 4. Bucles\n",
        "Un bucle (o loop) permite repetir un conjunto de instrucciones varias veces, ya sea una cantidad fija de veces o mientras se cumpla una condición.\n",
        "\n",
        "1. for – es un bucle controlado\n",
        "\n",
        "Se usa cuando sabés cuántas veces querés repetir algo o cuando querés recorrer una colección (como una lista o una cadena de texto).\n",
        "\n",
        "Ambos son formas de abstraer la repetición controlada:\n",
        "\n",
        "    En matemáticas, para pensar sobre patrones y calcular resultados.\n",
        "\n",
        "    En programación, para instruir a la computadora sobre cómo repetir un proceso.\n",
        "\n",
        "| Matemática            | Programación                            |\n",
        "| --------------------- | --------------------------------------- |\n",
        "| $\\sum_{i=a}^{b} f(i)$ | `for i in range(a, b+1): total += f(i)` |\n",
        "\n"
      ],
      "metadata": {
        "id": "sl9TirxJA8co"
      }
    },
    {
      "cell_type": "code",
      "source": [
        "# for\n",
        "nombres = [\"Ana\", \"Luis\", \"Pablo\"]\n",
        "for nombre in nombres: #enumerate(nombres):\n",
        "    print (nombre)\n",
        "\n",
        "\n"
      ],
      "metadata": {
        "id": "TXmyPW9lAwrR",
        "colab": {
          "base_uri": "https://localhost:8080/"
        },
        "outputId": "de19ead6-3add-4a73-b6f1-158e92dc6730"
      },
      "execution_count": null,
      "outputs": [
        {
          "output_type": "stream",
          "name": "stdout",
          "text": [
            "Ana\n",
            "Luis\n",
            "Pablo\n"
          ]
        }
      ]
    },
    {
      "cell_type": "markdown",
      "source": [
        "El bucle while en Python\n",
        "\n",
        "El bucle while se usa cuando queremos repetir una acción mientras se cumpla una condición, sin saber de antemano cuántas veces será necesario. A diferencia del bucle for (que recorre listas o rangos con un número fijo de pasos), while es ideal cuando el número de repeticiones depende de algo que puede cambiar durante el programa, como una respuesta del usuario, un valor aleatorio o una condición de limpieza de datos. En el 90% de los casos de programación básica o análisis de datos, **for** es suficiente."
      ],
      "metadata": {
        "id": "ScEk70rrxAPt"
      }
    },
    {
      "cell_type": "markdown",
      "source": [
        "Palabras clave especiales en bucles\n",
        "\n",
        "    break → interrumpe el bucle y sale.\n",
        "\n",
        "    continue → salta a la siguiente vuelta del bucle, sin ejecutar lo que sigue debajo.\n",
        "\n",
        "    pass → no hace nada (es como un \"espacio reservado\")."
      ],
      "metadata": {
        "id": "XlHXdFESvzWp"
      }
    },
    {
      "cell_type": "markdown",
      "source": [
        "## 5. Funciones\n",
        " ¿Qué es una función en Python?\n",
        "\n",
        "Una función es un bloque de código que tiene un nombre y se puede utilizar múltiples veces. Las funciones permiten organizar, reutilizar y simplificar el código, lo que hace que tu programación sea más ordenada y eficiente.\n",
        "\n",
        "Definir una función es una forma de agrupar un conjunto de instrucciones que realizan una tarea específica, y luego se puede llamar en cualquier parte del programa cuando necesites ejecutar esa tarea. Esto es especialmente útil cuando tienes operaciones que se repiten varias veces, evitando la duplicación de código.\n",
        "\n",
        "¿Cómo se define una función?\n",
        "\n",
        "Para definir una función en Python, se usa la palabra clave def, seguida del nombre de la función y, entre paréntesis, los parámetros que la función podría necesitar. Al final de la función, se puede incluir la palabra clave return para devolver un resultado."
      ],
      "metadata": {
        "id": "KtQZAlgwBXxL"
      }
    },
    {
      "cell_type": "code",
      "source": [
        "def saludar(nombre, i=2):\n",
        "    return f\"Hola, {nombre}, tenés {i} minutos?\"\n",
        "\n",
        "saludar(\"Pablo\", i=5)\n"
      ],
      "metadata": {
        "colab": {
          "base_uri": "https://localhost:8080/",
          "height": 35
        },
        "id": "eflvKKS2BIQu",
        "outputId": "07659718-4cf1-44fb-f86f-09787cae95fb"
      },
      "execution_count": null,
      "outputs": [
        {
          "output_type": "execute_result",
          "data": {
            "text/plain": [
              "'Hola, Pablo, tenés 5 minutos?'"
            ],
            "application/vnd.google.colaboratory.intrinsic+json": {
              "type": "string"
            }
          },
          "metadata": {},
          "execution_count": 30
        }
      ]
    },
    {
      "cell_type": "markdown",
      "source": [
        "## 6. Manejo de errores"
      ],
      "metadata": {
        "id": "H2LCk79SBjXt"
      }
    },
    {
      "cell_type": "markdown",
      "source": [
        "\n",
        "\n",
        "En Python, el bloque try se usa para ejecutar código que podría generar un error. Si ocurre un error dentro del bloque try, Python detiene la ejecución de ese bloque y pasa al bloque except, donde puedes manejar el error de una manera controlada. Esto permite que el programa continúe ejecutándose sin interrupciones. El manejo de errores es útil para evitar que fallos inesperados, como la división por cero o errores al acceder a un archivo, hagan que tu programa se detenga abruptamente. También puedes usar else (para el caso en que no haya error) y finally (para ejecutar código que siempre se ejecuta, independientemente de si hubo error o no)."
      ],
      "metadata": {
        "id": "Djvdl8UJybYe"
      }
    },
    {
      "cell_type": "code",
      "source": [
        "try:\n",
        "    resultado = 10 / 0\n",
        "except ZeroDivisionError:\n",
        "    print(\"No se puede dividir por cero\")\n",
        "#resultado = 10 / 0"
      ],
      "metadata": {
        "colab": {
          "base_uri": "https://localhost:8080/"
        },
        "id": "N0yxqj9dBfNh",
        "outputId": "66d0068d-1e7e-43b4-86d7-ffe20a61e0fe"
      },
      "execution_count": null,
      "outputs": [
        {
          "output_type": "stream",
          "name": "stdout",
          "text": [
            "No se puede dividir por cero\n"
          ]
        }
      ]
    }
  ]
}